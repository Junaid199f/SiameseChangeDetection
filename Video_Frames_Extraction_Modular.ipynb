{
  "nbformat": 4,
  "nbformat_minor": 0,
  "metadata": {
    "colab": {
      "name": "Video_Frames_Extraction_Modular.ipynb",
      "provenance": [],
      "collapsed_sections": []
    },
    "kernelspec": {
      "name": "python3",
      "display_name": "Python 3"
    },
    "accelerator": "GPU"
  },
  "cells": [
    {
      "cell_type": "code",
      "metadata": {
        "id": "B12TUsNNozkt",
        "colab_type": "code",
        "colab": {}
      },
      "source": [
        "import numpy as np\n",
        "import pandas as pd\n",
        "import pickle\n",
        "import os\n",
        "import matplotlib.pyplot as plt\n",
        "from PIL import Image\n",
        "import cv2\n"
      ],
      "execution_count": 0,
      "outputs": []
    },
    {
      "cell_type": "code",
      "metadata": {
        "id": "-3PC3UeSRQPA",
        "colab_type": "code",
        "outputId": "c411a3a7-fd84-45db-d56a-007aa0f466f8",
        "colab": {
          "base_uri": "https://localhost:8080/",
          "height": 34
        }
      },
      "source": [
        "cd /content/drive/My Drive/Video_Dataset"
      ],
      "execution_count": 0,
      "outputs": [
        {
          "output_type": "stream",
          "text": [
            "/content/drive/My Drive/Video_Dataset\n"
          ],
          "name": "stdout"
        }
      ]
    },
    {
      "cell_type": "code",
      "metadata": {
        "id": "jpMUFxJqR2_g",
        "colab_type": "code",
        "outputId": "c2364e5c-eab4-4754-c490-55f75cd69494",
        "colab": {
          "base_uri": "https://localhost:8080/",
          "height": 221
        }
      },
      "source": [
        "ls"
      ],
      "execution_count": 0,
      "outputs": [
        {
          "output_type": "stream",
          "text": [
            "1_1.mp4             3_2.mp4             5_3.mp4             8_2_validation.pkl\n",
            "1_1_validation.pkl  3_2_validation.pkl  5_3_validation.pkl  8_3_validation.pkl\n",
            "1_2.mp4             3_3.mp4             6_1.mp4             8_4_validation.pkl\n",
            "1_2_validation.pkl  3_3_validation.pkl  6_1_validation.pkl  9_1_validation.pkl\n",
            "2_1.mp4             4_1.mp4             6_2.mp4             data1.npy\n",
            "2_1_validation.pkl  4_1_validation.pkl  6_2_validation.pkl  data2.npy\n",
            "2_2.mp4             4_2.mp4             6_3.mp4             data.npy\n",
            "2_2_validation.pkl  4_2_validation.pkl  6_3_validation.pkl  \u001b[0m\u001b[01;34mframes\u001b[0m/\n",
            "2_3.mp4             5_1.mp4             7_1_validation.pkl  labels1.npy\n",
            "2_3_validation.pkl  5_1_validation.pkl  7_2_validation.pkl  labels2.npy\n",
            "3_1.mp4             5_2.mp4             7_3_validation.pkl  labels.npy\n",
            "3_1_validation.pkl  5_2_validation.pkl  8_1_validation.pkl  new_labels.npy\n"
          ],
          "name": "stdout"
        }
      ]
    },
    {
      "cell_type": "code",
      "metadata": {
        "id": "vmehbkbfBhcQ",
        "colab_type": "code",
        "colab": {}
      },
      "source": [
        "import pickle\n",
        "\n",
        "def load_pickle_file(file_name):\n",
        "  \"\"\"\n",
        "  # open a file, where you stored the pickled data\n",
        "  Parameters\n",
        "\n",
        "  file_name: string\n",
        "  File Name of Pickle\n",
        "  \"\"\"\n",
        "  file = open(file_name, 'rb')\n",
        "  # dump information to that file\n",
        "  data = pickle.load(file)\n",
        "  # close the file  \n",
        "  file.close()\n",
        "  return data\n"
      ],
      "execution_count": 0,
      "outputs": []
    },
    {
      "cell_type": "code",
      "metadata": {
        "id": "lme4wZPbfLG0",
        "colab_type": "code",
        "colab": {}
      },
      "source": [
        "file_name='2_1_validation.pkl'\n",
        "data=load_pickle_file(file_name)\n"
      ],
      "execution_count": 0,
      "outputs": []
    },
    {
      "cell_type": "code",
      "metadata": {
        "id": "RWq2mPBnCYMU",
        "colab_type": "code",
        "outputId": "763670ce-b1bd-4408-8688-fe6f0396d404",
        "colab": {
          "base_uri": "https://localhost:8080/",
          "height": 85
        }
      },
      "source": [
        "data"
      ],
      "execution_count": 0,
      "outputs": [
        {
          "output_type": "execute_result",
          "data": {
            "text/plain": [
              "{'correctly_identified_slide_changes': [99, 419, 13861],\n",
              " 'human_added_slide_changes': [9004],\n",
              " 'human_validated_slide_changes': [99, 419, 9004, 13861],\n",
              " 'wrongly_identified_slide_changes': [458]}"
            ]
          },
          "metadata": {
            "tags": []
          },
          "execution_count": 20
        }
      ]
    },
    {
      "cell_type": "code",
      "metadata": {
        "id": "v2sk3koSlOrf",
        "colab_type": "code",
        "colab": {}
      },
      "source": [
        "#cd frames"
      ],
      "execution_count": 0,
      "outputs": []
    },
    {
      "cell_type": "code",
      "metadata": {
        "id": "1lgd71zne5N9",
        "colab_type": "code",
        "colab": {}
      },
      "source": [
        "#mkdir frames"
      ],
      "execution_count": 0,
      "outputs": []
    },
    {
      "cell_type": "code",
      "metadata": {
        "id": "6cD_XS32CBAV",
        "colab_type": "code",
        "colab": {}
      },
      "source": [
        "def get_frames(data):\n",
        "  \"\"\"\n",
        "  Getting Frames from data string that contains frames information\n",
        "  data: list\n",
        "  \"\"\"\n",
        "  return data['human_validated_slide_changes']"
      ],
      "execution_count": 0,
      "outputs": []
    },
    {
      "cell_type": "code",
      "metadata": {
        "id": "r1NLFFX2Rq2p",
        "colab_type": "code",
        "colab": {}
      },
      "source": [
        "frames=get_frames(data)"
      ],
      "execution_count": 0,
      "outputs": []
    },
    {
      "cell_type": "code",
      "metadata": {
        "id": "AvJzjrviWmEY",
        "colab_type": "code",
        "outputId": "73840b6e-f661-4c09-9025-8ae01936e836",
        "colab": {
          "base_uri": "https://localhost:8080/",
          "height": 34
        }
      },
      "source": [
        "frames"
      ],
      "execution_count": 0,
      "outputs": [
        {
          "output_type": "execute_result",
          "data": {
            "text/plain": [
              "[99, 419, 9004, 13861]"
            ]
          },
          "metadata": {
            "tags": []
          },
          "execution_count": 25
        }
      ]
    },
    {
      "cell_type": "code",
      "metadata": {
        "id": "d__YA2kUXt7x",
        "colab_type": "code",
        "outputId": "5fdcc703-26bb-439f-eefb-ac974fff0161",
        "colab": {
          "base_uri": "https://localhost:8080/",
          "height": 221
        }
      },
      "source": [
        "ls"
      ],
      "execution_count": 0,
      "outputs": [
        {
          "output_type": "stream",
          "text": [
            "1_1.mp4             3_2.mp4             5_3.mp4             8_2_validation.pkl\n",
            "1_1_validation.pkl  3_2_validation.pkl  5_3_validation.pkl  8_3_validation.pkl\n",
            "1_2.mp4             3_3.mp4             6_1.mp4             8_4_validation.pkl\n",
            "1_2_validation.pkl  3_3_validation.pkl  6_1_validation.pkl  9_1_validation.pkl\n",
            "2_1.mp4             4_1.mp4             6_2.mp4             data1.npy\n",
            "2_1_validation.pkl  4_1_validation.pkl  6_2_validation.pkl  data2.npy\n",
            "2_2.mp4             4_2.mp4             6_3.mp4             data.npy\n",
            "2_2_validation.pkl  4_2_validation.pkl  6_3_validation.pkl  \u001b[0m\u001b[01;34mframes\u001b[0m/\n",
            "2_3.mp4             5_1.mp4             7_1_validation.pkl  labels1.npy\n",
            "2_3_validation.pkl  5_1_validation.pkl  7_2_validation.pkl  labels2.npy\n",
            "3_1.mp4             5_2.mp4             7_3_validation.pkl  labels.npy\n",
            "3_1_validation.pkl  5_2_validation.pkl  8_1_validation.pkl  new_labels.npy\n"
          ],
          "name": "stdout"
        }
      ]
    },
    {
      "cell_type": "code",
      "metadata": {
        "id": "ZzhdfpjID1cS",
        "colab_type": "code",
        "colab": {}
      },
      "source": [
        "def write_frame(file_name,i,class_iter,frame):\n",
        "  \"\"\"\n",
        "  Function to write frames read from opencv using into file\n",
        "\n",
        "  PARAMETERS\n",
        "  file_name:string\n",
        "  file name of frame to save\n",
        "  class_iter = int\n",
        "  Class Number\n",
        "  i = int\n",
        "  Frame Number\n",
        "  frame=Image Array\n",
        "  Frame Image\n",
        "  RETURNS\n",
        "  None\n",
        "  \"\"\"\n",
        "  cv2.imwrite('frames/'+str(file_name)+str(i)+'class'+str(class_iter)+'.jpg',frame)\n",
        "def open_frame(file_name,i,class_iter):\n",
        "  \"\"\"\n",
        "  Function to open saved image using PIL and resize it into 64x64 size and into numpy uint8 array\n",
        "\n",
        "  PARAMETERS\n",
        "  file_name:string\n",
        "  file name of frame to save\n",
        "  class_iter = int\n",
        "  Class Number\n",
        "  i = int\n",
        "  Frame Number\n",
        "\n",
        "  RETURNS\n",
        "  Image= Numpy Array\n",
        "  Pre-processed numpy array\n",
        "  \"\"\"\n",
        "\n",
        "  image=Image.open('frames/'+str(file_name)+str(i)+'class'+str(class_iter)+'.jpg')\n",
        "  image = image.resize((128, 64), Image.ANTIALIAS)\n",
        "  image = np.array(image.getdata(),dtype='uint8').reshape(image.size[0], image.size[1], 3)\n",
        "  return image\n",
        "\n",
        "def get_frames_from_videos(file_name,data,labels):\n",
        "  \"\"\"\n",
        "  This Function Read All the frames from videos, then save it and pre-process and add the \n",
        "  into a list of data and class number into labels so that it can be further used for\n",
        "  training of model\n",
        "  PARAMETERS\n",
        "  file_name = String\n",
        "  data = list\n",
        "  list for adding numpy data frames\n",
        "  labels =list\n",
        "  List for adding labels\n",
        "  RETURNS\n",
        "  data = list\n",
        "  list containing Preprocessed Numpy arrays of frames\n",
        "  labels =list\n",
        "  List containing Labels in the form of list\n",
        "  \"\"\"\n",
        "  cap= cv2.VideoCapture(file_name+'.mp4')\n",
        "  i=0\n",
        "  class_iter=1\n",
        "  n=0\n",
        "  while (cap.isOpened()):\n",
        "    if(i<=frames[len(frames)-1]):\n",
        "      print(i)\n",
        "      if i in frames:\n",
        "        print(i)\n",
        "        print(class_iter)\n",
        "        class_iter=class_iter+1\n",
        "      ret, frame = cap.read()\n",
        "      write_frame(file_name,i,class_iter,frame)\n",
        "      image =open_frame(file_name,i,class_iter)\n",
        "      data.append(image)\n",
        "      labels.append(class_iter-1)\n",
        "    \n",
        "      i+=1\n",
        "    else:\n",
        "      #print(\"Entered\")\n",
        "      break;\n",
        "  cap.release()\n",
        "  cv2.destroyAllWindows()\n",
        "  return data,labels"
      ],
      "execution_count": 0,
      "outputs": []
    },
    {
      "cell_type": "code",
      "metadata": {
        "id": "LQHuS2_9fC6g",
        "colab_type": "code",
        "outputId": "1df8c92c-bf4f-4ea8-f74c-fe68d6c042e9",
        "colab": {
          "base_uri": "https://localhost:8080/",
          "height": 1000
        }
      },
      "source": [
        "import cv2\n",
        "from tqdm import tqdm\n",
        "\n",
        "# Opens the Video file\n",
        "file_name='2_1'\n",
        "data=[]\n",
        "labels=[]\n",
        "\n",
        "data,labels=get_frames_from_videos(file_name,data,labels)\n",
        "print(len(labels))"
      ],
      "execution_count": 0,
      "outputs": [
        {
          "output_type": "stream",
          "text": [
            "0\n",
            "1\n",
            "2\n",
            "3\n",
            "4\n",
            "5\n",
            "6\n",
            "7\n",
            "8\n",
            "9\n",
            "10\n",
            "11\n",
            "12\n",
            "13\n",
            "14\n",
            "15\n",
            "16\n",
            "17\n",
            "18\n",
            "19\n",
            "20\n",
            "21\n",
            "22\n",
            "23\n",
            "24\n",
            "25\n",
            "26\n",
            "27\n",
            "28\n",
            "29\n",
            "30\n",
            "31\n",
            "32\n",
            "33\n",
            "34\n",
            "35\n",
            "36\n",
            "37\n",
            "38\n",
            "39\n",
            "40\n",
            "41\n",
            "42\n",
            "43\n",
            "44\n",
            "45\n",
            "46\n",
            "47\n",
            "48\n",
            "49\n",
            "50\n",
            "51\n",
            "52\n",
            "53\n",
            "54\n",
            "55\n",
            "56\n",
            "57\n",
            "58\n",
            "59\n",
            "60\n",
            "61\n",
            "62\n",
            "63\n",
            "64\n",
            "65\n",
            "66\n",
            "67\n",
            "68\n",
            "69\n",
            "70\n",
            "71\n",
            "72\n",
            "73\n",
            "74\n",
            "75\n",
            "76\n",
            "77\n",
            "78\n",
            "79\n",
            "80\n",
            "81\n",
            "82\n",
            "83\n",
            "84\n",
            "85\n",
            "86\n",
            "87\n",
            "88\n",
            "89\n",
            "90\n",
            "91\n",
            "92\n",
            "93\n",
            "94\n",
            "95\n",
            "96\n",
            "97\n",
            "98\n",
            "99\n",
            "99\n",
            "1\n",
            "100\n",
            "101\n",
            "102\n",
            "103\n",
            "104\n",
            "105\n",
            "106\n",
            "107\n",
            "108\n",
            "109\n",
            "110\n",
            "111\n",
            "112\n",
            "113\n"
          ],
          "name": "stdout"
        }
      ]
    },
    {
      "cell_type": "code",
      "metadata": {
        "id": "sxtP7wWNqKHX",
        "colab_type": "code",
        "colab": {}
      },
      "source": [
        "Image.open('frames/2_10class1.jpg')"
      ],
      "execution_count": 0,
      "outputs": []
    },
    {
      "cell_type": "code",
      "metadata": {
        "id": "NAF-xm5dPNTC",
        "colab_type": "code",
        "colab": {}
      },
      "source": [
        "\n",
        "def convert_to_numpy(data,labels):\n",
        "  \"\"\"\n",
        "  Converting the data and labels lists into numpy arrays\n",
        "  PARAMETERS\n",
        "  data = list\n",
        "  list containing frames\n",
        "  labels =list\n",
        "  list contains labels\n",
        "  RETURNS\n",
        "  data = numpy array\n",
        "  labels = numpy array\n",
        "  Numpy arrays of data and lists\n",
        "  \"\"\"\n",
        "  return np.asarray(data),np.asarray(labels)\n",
        "\n",
        "data,labels = convert_to_numpy(data,labels)"
      ],
      "execution_count": 0,
      "outputs": []
    },
    {
      "cell_type": "code",
      "metadata": {
        "id": "zI0-pm2fO4eL",
        "colab_type": "code",
        "colab": {}
      },
      "source": [
        "np.save('data2.npy',data)\n",
        "np.save('labels2.npy',labels)"
      ],
      "execution_count": 0,
      "outputs": []
    },
    {
      "cell_type": "code",
      "metadata": {
        "id": "5SynNaCQ1YvI",
        "colab_type": "code",
        "outputId": "7937928c-eb04-4c3d-ae63-e3df6df30179",
        "colab": {
          "base_uri": "https://localhost:8080/",
          "height": 221
        }
      },
      "source": [
        "ls"
      ],
      "execution_count": 0,
      "outputs": [
        {
          "output_type": "stream",
          "text": [
            "1_1.mp4             3_2.mp4             5_3.mp4             8_2_validation.pkl\n",
            "1_1_validation.pkl  3_2_validation.pkl  5_3_validation.pkl  8_3_validation.pkl\n",
            "1_2.mp4             3_3.mp4             6_1.mp4             8_4_validation.pkl\n",
            "1_2_validation.pkl  3_3_validation.pkl  6_1_validation.pkl  9_1_validation.pkl\n",
            "2_1.mp4             4_1.mp4             6_2.mp4             data1.npy\n",
            "2_1_validation.pkl  4_1_validation.pkl  6_2_validation.pkl  data2.npy\n",
            "2_2.mp4             4_2.mp4             6_3.mp4             data.npy\n",
            "2_2_validation.pkl  4_2_validation.pkl  6_3_validation.pkl  \u001b[0m\u001b[01;34mframes\u001b[0m/\n",
            "2_3.mp4             5_1.mp4             7_1_validation.pkl  labels1.npy\n",
            "2_3_validation.pkl  5_1_validation.pkl  7_2_validation.pkl  labels2.npy\n",
            "3_1.mp4             5_2.mp4             7_3_validation.pkl  labels.npy\n",
            "3_1_validation.pkl  5_2_validation.pkl  8_1_validation.pkl  new_labels.npy\n"
          ],
          "name": "stdout"
        }
      ]
    },
    {
      "cell_type": "code",
      "metadata": {
        "id": "VGIjFU2O1ZYv",
        "colab_type": "code",
        "colab": {}
      },
      "source": [
        ""
      ],
      "execution_count": 0,
      "outputs": []
    }
  ]
}